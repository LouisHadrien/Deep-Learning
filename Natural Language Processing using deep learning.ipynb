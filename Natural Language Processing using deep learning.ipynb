{
 "cells": [
  {
   "cell_type": "markdown",
   "metadata": {},
   "source": [
    "# Deep Learning for NLP - Project"
   ]
  },
  {
   "cell_type": "code",
   "execution_count": 1,
   "metadata": {},
   "outputs": [],
   "source": [
    "import io\n",
    "import os\n",
    "import numpy as np\n",
    "import scipy"
   ]
  },
  {
   "cell_type": "code",
   "execution_count": 2,
   "metadata": {},
   "outputs": [],
   "source": [
    "PATH_TO_DATA = \"C:/Users/louis/Documents/Msc data science/Centrale/Deep Learning/nlp_project/data/\""
   ]
  },
  {
   "cell_type": "markdown",
   "metadata": {},
   "source": [
    "# 1) Monolingual (English) word embeddings "
   ]
  },
  {
   "cell_type": "code",
   "execution_count": 3,
   "metadata": {},
   "outputs": [],
   "source": [
    "# Word to vec class\n",
    "class Word2vec():\n",
    "    def __init__(self, fname, nmax=100000):\n",
    "        self.load_wordvec(fname, nmax)\n",
    "        self.word2id = dict.fromkeys(self.word2vec.keys())\n",
    "        self.id2word = {v: k for k, v in self.word2id.items()}\n",
    "        self.embeddings = np.array(self.word2vec.values())\n",
    "    \n",
    "    def load_wordvec(self, fname, nmax):\n",
    "        self.word2vec = {}\n",
    "        print(fname)\n",
    "        with io.open(fname, encoding='utf-8') as f:\n",
    "            next(f)\n",
    "           \n",
    "            for i, line in enumerate(f):\n",
    "                word, vec = line.split(' ', 1)\n",
    "                #print(word)\n",
    "                word=word.lower()\n",
    "                self.word2vec[word] = np.fromstring(vec, sep=' ')\n",
    "                if i == (nmax - 1):\n",
    "                    break\n",
    "        print('Loaded %s pretrained word vectors' % (len(self.word2vec)))\n",
    "\n",
    "    def most_similar(self, w, K=5):\n",
    "        # K most similar words: self.score  -  np.argsort \n",
    "        self.list_score=[]\n",
    "        w=w.lower()\n",
    "        #self.list_sorted=[]\n",
    "        for word in self.word2vec:\n",
    "            self.list_score.append((self.score(word,w),word))\n",
    "        self.list_sorted=sorted(self.list_score,key=lambda x:x[0],reverse=True)\n",
    "        return (self.list_sorted[1:K+1]) #get rid of itself because similarity is 1\n",
    "\n",
    "    def score(self, w1, w2):\n",
    "        # cosine similarity: np.dot  -  np.linalg.norm\n",
    "        #conversion to lower case\n",
    "        w1=w1.lower()\n",
    "        w2=w2.lower()\n",
    "        #get vector coordinates for the words\n",
    "        word1=self.word2vec[w1]\n",
    "        word2=self.word2vec[w2]\n",
    "        s=np.dot(word1,word2)/(np.linalg.norm(word1)*np.linalg.norm(word2))\n",
    "        return(s)\n"
   ]
  },
  {
   "cell_type": "code",
   "execution_count": 4,
   "metadata": {},
   "outputs": [
    {
     "name": "stdout",
     "output_type": "stream",
     "text": [
      "C:/Users/louis/Documents/Msc data science/Centrale/Deep Learning/nlp_project/data/crawl-300d-200k.vec\n",
      "Loaded 19765 pretrained word vectors\n",
      "cat dog 0.2510936879670139\n",
      "dog pet 0.28149744895768625\n",
      "dogs cats 0.6747577573530962\n",
      "paris france 0.7058595452409975\n",
      "germany berlin 0.7060253015336013\n",
      "[(0.45469832732644455, 'man'), (0.4538155159290066, 'sat'), (0.4385987708786815, 'pet'), (0.40771665960864695, 'act'), (0.4010274360865279, 'star')]\n",
      "[(0.7660710966826116, 'dogs'), (0.6288435326377401, 'puppy'), (0.5786290691941408, 'canine'), (0.5716627372454851, 'horse'), (0.5613438419954163, 'pets')]\n",
      "[(0.7660710966826116, 'dog'), (0.7146502694918196, 'pets'), (0.6747577573530962, 'cats'), (0.5817275228710577, 'animals'), (0.5503549152271858, 'horses')]\n",
      "[(0.7325631347775841, 'parisian'), (0.7058595452409975, 'france'), (0.6135319861170939, 'versailles'), (0.609683784465089, 'lyon'), (0.5787746712318416, 'bordeaux')]\n",
      "[(0.7173178955997039, 'austria'), (0.7163809202373845, 'bavaria'), (0.7060253015336013, 'berlin'), (0.698387664055097, 'munich'), (0.677842711452641, 'hamburg')]\n"
     ]
    }
   ],
   "source": [
    "# evaluation \n",
    "w2v = Word2vec(os.path.join(PATH_TO_DATA, 'crawl-300d-200k.vec'), nmax=25000)\n",
    "\n",
    "for w1, w2 in zip(('cat', 'dog', 'dogs', 'paris', 'germany'), ('dog', 'pet', 'cats', 'france', 'berlin')):\n",
    "    print(w1, w2, w2v.score(w1, w2))\n",
    "for w1 in ['cat', 'dog', 'dogs', 'paris', 'germany']:\n",
    "    print(w2v.most_similar(w1))\n"
   ]
  },
  {
   "cell_type": "code",
   "execution_count": 5,
   "metadata": {},
   "outputs": [],
   "source": [
    "#Bag of words class\n",
    "class BoV():\n",
    "    def __init__(self, w2v):\n",
    "        self.w2v = w2v\n",
    "    \n",
    "    def encode(self, sentences, idf=False):\n",
    "        # takes a list of sentences, outputs a numpy array of sentence embeddings\n",
    "        # --------------------------------------------------------------------------------- \n",
    "        sentemb = []\n",
    "        embedding_vec = np.zeros(300)\n",
    "        for sent in sentences:\n",
    "            if idf is False:\n",
    "                # mean of word vectors\n",
    "                embedding_vec = sum([self.w2v.word2vec.get(words, np.zeros(300)) for words in sent])/len(sent)\n",
    "                sentemb.append(embedding_vec/len(sent))\n",
    "            else:\n",
    "                # idf-weighted mean of word vectors\n",
    "                embedding_vec = sum([self.w2v.word2vec.get(words, np.zeros(300))*self.idf_dic[words] for words in sent])/len(sent)\n",
    "                sentemb.append(embedding_vec)\n",
    "        # --------------------------------------------------------------------------------- \n",
    "        return np.vstack(sentemb)\n",
    "\n",
    "    def most_similar(self, s, sentences, idf=False, K=5):\n",
    "        # get most similar sentences and **print** them\n",
    "        # --------------------------------------------------------------------------------- \n",
    "        if idf == False:\n",
    "            keys = self.encode(sentences)\n",
    "            query = self.encode([s])\n",
    "        else:\n",
    "            keys = self.encode(sentences, idf)\n",
    "            query = self.encode([s], idf)\n",
    "        \n",
    "        # build an np.array where column 0 is index, column 1 is corresponding score, \n",
    "        # score has been set to 0 for score(s1, s2), where s1 = s2 -> aviod to output itself as the most similar sentence\n",
    "        sent_score_list = np.array( [ [index, 0] if (s1==query).all() else [index, self.score(query, s1, s_is_vec=True)] for index, s1 in enumerate(keys) ] )\n",
    "        K_similar_sents_list = [ sentences[np.argsort(sent_score_list[:,1], axis=0)[-i-1]]   for i in range(K) ] \n",
    "        \n",
    "        for sent in K_similar_sents_list:\n",
    "            print(\" \".join(sent))\n",
    "        #---------------------------------------------------------------------------------       \n",
    "        return\n",
    "\n",
    "    def score(self, s1, s2, idf=False, s_is_vec=False):\n",
    "        # cosine similarity: use   np.dot  and  np.linalg.norm      \n",
    "        # ---------------------------------------------------------------------------------\n",
    "        if s_is_vec == False:\n",
    "            if idf == False:\n",
    "                vec1 = self.encode([s1])\n",
    "                vec2 = self.encode([s2])\n",
    "            else:\n",
    "                vec1 = self.encode([s1], idf)\n",
    "                vec2 = self.encode([s2], idf)\n",
    "        else:\n",
    "            vec1 = s1\n",
    "            vec2 = s2           \n",
    "        cos_similarity = np.dot(vec1, vec2.T)/(np.linalg.norm(vec1)*np.linalg.norm(vec2))\n",
    "        # ---------------------------------------------------------------------------------             \n",
    "        return cos_similarity\n",
    "    \n",
    "    def build_idf(self, sentences):\n",
    "        # build the idf dictionary: associate each word to its idf value\n",
    "        # --------------------------------------------------------------------------------- \n",
    "        idf = {}\n",
    "        for sent in sentences:\n",
    "            for w in set(sent):\n",
    "                idf[w] = idf.get(w, 0) + 1\n",
    "        self.idf_dic = { word: max(1, np.log10(len(sentences) / (idf[word]))) for word, value in idf.items() }\n",
    "        # --------------------------------------------------------------------------------- \n",
    "        return self.idf_dic\n"
   ]
  },
  {
   "cell_type": "code",
   "execution_count": 6,
   "metadata": {
    "scrolled": false
   },
   "outputs": [
    {
     "name": "stdout",
     "output_type": "stream",
     "text": [
      "C:/Users/louis/Documents/Msc data science/Centrale/Deep Learning/nlp_project/data/crawl-300d-200k.vec\n",
      "Loaded 19765 pretrained word vectors\n",
      "Most similar to : 1 woman in a black jacket is drinking out of a bottle while others are smiling . \n",
      "\n",
      "a woman in a blue shirt is laughing with a woman in a black shirt outside , as people are sitting and standing all around them . \n",
      "\n",
      "a woman with blond-hair is drinking out of a glass . \n",
      "\n",
      "a young woman in a gray and black shirt is sitting by a tree , drinking something out of a paper cup with a straw . \n",
      "\n",
      "a man in a pink shirt and a woman in a teal shirt , who is drinking wine , are sitting in a dark corner and talking . \n",
      "\n",
      "a man in a blue shirt carrying a backpack and a woman dressed in black holding some type of box are deep in conversation . \n",
      "\n",
      "[[0.81265467]]\n",
      "a man in a white shirt squirting a bottle of a drink and smiling . \n",
      "\n",
      "a bicyclist is drinking out of a bottle of water while riding . \n",
      "\n",
      "a woman in a red shirt standing next to a woman in a black shirt and holding a bottle of water . \n",
      "\n",
      "a man wearing a yellow shirt is holding a bottle while walking with a crowd of people . \n",
      "\n",
      "a boy in a red shirt is sitting in the road with bottle of water . \n",
      "\n",
      "[[0.75062478]]\n"
     ]
    }
   ],
   "source": [
    "# Evaluation BoV\n",
    "w2v = Word2vec(os.path.join(PATH_TO_DATA, 'crawl-300d-200k.vec'), nmax=25000)\n",
    "s2v = BoV(w2v)\n",
    "\n",
    "# Load sentences in \"PATH_TO_DATA/sentences.txt\"\n",
    "# --------------------------------------------------------------------------------- \n",
    "sentences = []\n",
    "with io.open(os.path.join(PATH_TO_DATA, 'sentences.txt'), encoding='utf-8') as f:\n",
    "    next(f)\n",
    "    for i, line in enumerate(f):\n",
    "        sentence_split = line.split(' ')\n",
    "        sentences.append([t.lower() for t in sentence_split])\n",
    "# --------------------------------------------------------------------------------- \n",
    "\n",
    "# Build idf scores for each word\n",
    "\n",
    "s2v.build_idf(sentences)\n",
    "\n",
    "# You will be evaluated on the output of the following:\n",
    "print('Most similar to :', \" \".join(sentences[10]))\n",
    "s2v.most_similar('' if not sentences else sentences[10], sentences)  # BoV-mean\n",
    "print(s2v.score('' if not sentences else sentences[7], '' if not sentences else sentences[13]))\n",
    "\n",
    "idf = {}  \n",
    "s2v.most_similar('' if not sentences else sentences[10], sentences, idf)  # BoV-idf\n",
    "print(s2v.score('' if not sentences else sentences[7], '' if not sentences else sentences[13], idf))"
   ]
  },
  {
   "cell_type": "markdown",
   "metadata": {},
   "source": [
    "# 2) Sentence classification with BoV and scikit-learn"
   ]
  },
  {
   "cell_type": "code",
   "execution_count": 11,
   "metadata": {},
   "outputs": [
    {
     "name": "stdout",
     "output_type": "stream",
     "text": [
      "C:/Users/louis/Documents/Msc data science/Centrale/Deep Learning/nlp_project/data/crawl-300d-200k.vec\n",
      "Loaded 19765 pretrained word vectors\n",
      "1101\n"
     ]
    }
   ],
   "source": [
    "# 1 - Load train/dev/test of Stanford Sentiment TreeBank (SST)\n",
    "#     (https://nlp.stanford.edu/~socherr/EMNLP2013_RNTN.pdf)\n",
    "\n",
    "# Create classes \n",
    "w2v = Word2vec(os.path.join(PATH_TO_DATA, 'crawl-300d-200k.vec'), nmax=25000) \n",
    "s2v = BoV(w2v)\n",
    "\n",
    "#Load data\n",
    "SST='C:/Users/louis/Documents/Msc data science/Centrale/Deep Learning/nlp_project/data/SST/'\n",
    "labels=[]\n",
    "train=[]\n",
    "with open(os.path.join(SST, 'stsa.fine.train')) as f:\n",
    "    for line in f:\n",
    "        labels.append(int(line[0])) #get class\n",
    "        train.append(line[1:len(line)-1]) #get sentence\n",
    "\n",
    "dev=[]\n",
    "labels_dev=[]\n",
    "with open(os.path.join(SST, 'stsa.fine.dev')) as f:\n",
    "    for line in f:\n",
    "        labels_dev.append(int(line[0])) #get class\n",
    "        dev.append(line[1:len(line)-1]) #get sentence\n",
    "        \n",
    "test=[]\n",
    "with open(os.path.join(SST, 'stsa.fine.test.x')) as f:\n",
    "    for line in f:\n",
    "        test.append(line) #get sentence\n",
    "\n",
    "combined=train+test\n"
   ]
  },
  {
   "cell_type": "code",
   "execution_count": 12,
   "metadata": {},
   "outputs": [
    {
     "name": "stdout",
     "output_type": "stream",
     "text": [
      "[[-0.00647606  0.11966672 -0.04429934 ... -0.02959958 -0.09337698\n",
      "  -0.01011749]\n",
      " [-0.0030643   0.12825755 -0.04785066 ... -0.02995261 -0.07599389\n",
      "  -0.01728696]\n",
      " [-0.01664969  0.136322   -0.04695538 ... -0.03429115 -0.08546657\n",
      "  -0.0297297 ]\n",
      " ...\n",
      " [-0.00902534  0.16262966 -0.05367443 ... -0.036827   -0.07836752\n",
      "  -0.02441586]\n",
      " [-0.01588489  0.08665783 -0.04534149 ... -0.00799552 -0.07143226\n",
      "  -0.02260761]\n",
      " [-0.0195598   0.1220789  -0.0438411  ... -0.02901052 -0.07855926\n",
      "  -0.01623222]]\n"
     ]
    }
   ],
   "source": [
    "# 2 - Encode sentences with the BoV model above\n",
    "from sklearn.preprocessing import normalize\n",
    "\n",
    "s2v.build_idf(combined)\n",
    "matrix=s2v.encode(combined)\n",
    "\n",
    "train_vect=matrix[:len(train)]\n",
    "test_vect=matrix[len(train):]\n",
    "\n",
    "#normalize vector of train and test set\n",
    "tt=normalize(train_vect)\n",
    "ttest=normalize(test_vect)\n",
    "print(tt)"
   ]
  },
  {
   "cell_type": "code",
   "execution_count": 13,
   "metadata": {},
   "outputs": [
    {
     "name": "stdout",
     "output_type": "stream",
     "text": [
      "              precision    recall  f1-score   support\n",
      "\n",
      "           0       0.00      0.00      0.00       895\n",
      "           1       0.30      0.23      0.26      1784\n",
      "           2       0.32      0.00      0.01      1276\n",
      "           3       0.28      0.82      0.42      1851\n",
      "           4       0.08      0.00      0.00      1030\n",
      "\n",
      "   micro avg       0.28      0.28      0.28      6836\n",
      "   macro avg       0.20      0.21      0.14      6836\n",
      "weighted avg       0.23      0.28      0.18      6836\n",
      "\n"
     ]
    },
    {
     "name": "stderr",
     "output_type": "stream",
     "text": [
      "C:\\ProgramData\\Anaconda3\\lib\\site-packages\\sklearn\\metrics\\classification.py:1143: UndefinedMetricWarning: Precision and F-score are ill-defined and being set to 0.0 in labels with no predicted samples.\n",
      "  'precision', 'predicted', average, warn_for)\n"
     ]
    }
   ],
   "source": [
    "# 3 - Learn Logistic Regression on top of sentence embeddings using scikit-learn\n",
    "from sklearn.linear_model import LogisticRegression\n",
    "from sklearn.model_selection import train_test_split\n",
    "from sklearn.metrics import classification_report\n",
    "from sklearn.feature_extraction.text import TfidfVectorizer\n",
    "\n",
    "#split set into training and test set 80/20%\n",
    "data_train , data_test , labels_train , labels_test = train_test_split(tt, labels , test_size =0.8 , random_state=42)\n",
    "#print(labels_train)\n",
    "clf = LogisticRegression(random_state=0, solver='sag',multi_class='multinomial').fit(data_train, labels_train)\n",
    "labels_predicted=clf.predict(data_test)\n",
    "\n",
    "\n",
    "#print(len(labels_predicted),len(labels_test))\n",
    "print (classification_report(labels_test , labels_predicted ))\n",
    "\n",
    "# TYPE CODE HERE"
   ]
  },
  {
   "cell_type": "code",
   "execution_count": 14,
   "metadata": {},
   "outputs": [],
   "source": [
    "# 4 - Produce 2210 predictions for the test set (in the same order). One line = one prediction (=0,1,2,3,4).\n",
    "#     Attach the output file \"logreg_bov_y_test_sst.txt\" to your deliverable.\n",
    "#     You will be evaluated on the results of the test set.\n",
    "output=clf.predict(ttest)\n",
    "np.savetxt(\"logreg_bov_y_test_sst.txt\",output)\n"
   ]
  },
  {
   "cell_type": "code",
   "execution_count": 15,
   "metadata": {
    "scrolled": true
   },
   "outputs": [
    {
     "name": "stdout",
     "output_type": "stream",
     "text": [
      "              precision    recall  f1-score   support\n",
      "\n",
      "           0       0.15      0.05      0.08       895\n",
      "           1       0.28      0.44      0.34      1784\n",
      "           2       0.26      0.10      0.14      1276\n",
      "           3       0.29      0.33      0.31      1851\n",
      "           4       0.21      0.23      0.22      1030\n",
      "\n",
      "   micro avg       0.26      0.26      0.26      6836\n",
      "   macro avg       0.24      0.23      0.22      6836\n",
      "weighted avg       0.25      0.26      0.24      6836\n",
      "\n",
      "              precision    recall  f1-score   support\n",
      "\n",
      "           0       0.12      0.00      0.00       895\n",
      "           1       0.30      0.42      0.35      1784\n",
      "           2       0.29      0.06      0.10      1276\n",
      "           3       0.29      0.61      0.39      1851\n",
      "           4       0.23      0.02      0.03      1030\n",
      "\n",
      "   micro avg       0.29      0.29      0.29      6836\n",
      "   macro avg       0.25      0.22      0.17      6836\n",
      "weighted avg       0.26      0.29      0.22      6836\n",
      "\n",
      "              precision    recall  f1-score   support\n",
      "\n",
      "           0       0.14      0.01      0.01       895\n",
      "           1       0.30      0.44      0.36      1784\n",
      "           2       0.23      0.12      0.16      1276\n",
      "           3       0.29      0.52      0.37      1851\n",
      "           4       0.24      0.06      0.09      1030\n",
      "\n",
      "   micro avg       0.29      0.29      0.29      6836\n",
      "   macro avg       0.24      0.23      0.20      6836\n",
      "weighted avg       0.26      0.29      0.24      6836\n",
      "\n"
     ]
    }
   ],
   "source": [
    "# Improving performances with another classifier\n",
    "from sklearn.naive_bayes import BernoulliNB\n",
    "from sklearn import svm\n",
    "from sklearn.ensemble import RandomForestClassifier\n",
    "clf4=BernoulliNB()\n",
    "scores4=clf4.fit(data_train,labels_train)\n",
    "labels_predicted4=clf4.predict(data_test)\n",
    "print( classification_report(labels_test,labels_predicted4))\n",
    "\n",
    "clf2 = svm.LinearSVC(C=1)\n",
    "\n",
    "score = clf2.fit(data_train,labels_train)\n",
    "labels_predicted2=clf2.predict(data_test)\n",
    "print (classification_report(labels_test , labels_predicted2 ))\n",
    "\n",
    "#Random forest\n",
    "clf3=RandomForestClassifier(n_estimators=1000, max_depth=25,random_state=0)\n",
    "score3 = clf3.fit(data_train,labels_train)\n",
    "labels_predicted3=clf3.predict(data_test)\n",
    "print (classification_report(labels_test , labels_predicted3 ))\n",
    "\n",
    "#Save text file\n",
    "output2=clf2.predict(ttest)\n",
    "np.savetxt(\"svm_bov_y_test_sst.txt\",output2)"
   ]
  },
  {
   "cell_type": "markdown",
   "metadata": {},
   "source": [
    "# 3) Sentence classification with LSTMs in Keras"
   ]
  },
  {
   "cell_type": "markdown",
   "metadata": {},
   "source": [
    "## 3.1 - Preprocessing"
   ]
  },
  {
   "cell_type": "code",
   "execution_count": 16,
   "metadata": {},
   "outputs": [
    {
     "name": "stderr",
     "output_type": "stream",
     "text": [
      "Using TensorFlow backend.\n"
     ]
    }
   ],
   "source": [
    "import keras"
   ]
  },
  {
   "cell_type": "code",
   "execution_count": 17,
   "metadata": {},
   "outputs": [],
   "source": [
    "# 1 - Load train/dev/test sets of SST\n",
    "SST='C:/Users/louis/Documents/Msc data science/Centrale/Deep Learning/nlp_project/data/SST/'\n",
    "\n",
    "\n",
    "from keras.utils import np_utils\n",
    "labels=[]\n",
    "train=[]\n",
    "with open(os.path.join(SST, 'stsa.fine.train')) as f:\n",
    "    for line in f:\n",
    "        labels.append(int(line[0])) #get class\n",
    "        train.append(line[1:len(line)-1]) #get sentence\n",
    "y_train = np_utils.to_categorical(labels, 5)         \n",
    "n_train=len(y_train)    \n",
    "\n",
    "dev=[]\n",
    "labels_dev=[]\n",
    "with open(os.path.join(SST, 'stsa.fine.dev')) as f:\n",
    "    for line in f:\n",
    "        labels_dev.append(int(line[0])) #get class\n",
    "        dev.append(line[1:len(line)-1]) #get sentence\n",
    "y_dev = np_utils.to_categorical(labels_dev, 5)  \n",
    "n_dev= len(y_dev)\n",
    "\n",
    "combined=train+dev\n",
    "test=[]\n",
    "with open(os.path.join(SST, 'stsa.fine.test.x')) as f:\n",
    "    for line in f:\n",
    "        test.append(line) #get sentence\n",
    "\n"
   ]
  },
  {
   "cell_type": "code",
   "execution_count": 18,
   "metadata": {},
   "outputs": [],
   "source": [
    "# 2 - Transform text to integers\n",
    "\n",
    "from keras.preprocessing.text import Tokenizer\n",
    "#getsize of vocabulary\n",
    "tokenizer = Tokenizer()\n",
    "tokenizer.fit_on_texts(train)#train\n",
    "n= len(tokenizer.word_index)+1\n",
    "#print(vocab_size)\n",
    "\n",
    "#preprocess the data using keras one_hot encoding function\n",
    "def onehot(text,n):\n",
    "    L=[]\n",
    "    for sent in text:\n",
    "        L.append(keras.preprocessing.text.one_hot(sent,n,filters='!\"#$%&()*+,-./:;<=>?@[\\]^_`{|}~', lower=True, split=' '))\n",
    "    return L\n",
    "\n",
    "#get train, dev and test set\n",
    "transformed_train=onehot(train,n)\n",
    "transformed_dev=onehot(dev,n)\n",
    "transformed_test=onehot(test,n)\n"
   ]
  },
  {
   "cell_type": "code",
   "execution_count": 19,
   "metadata": {},
   "outputs": [
    {
     "name": "stdout",
     "output_type": "stream",
     "text": [
      "(8544, 53) (1101, 53) (2210, 53)\n"
     ]
    }
   ],
   "source": [
    "# 3 - Padding sentences\n",
    "x_train=keras.preprocessing.sequence.pad_sequences(transformed_train, maxlen=53, dtype='int32', padding='pre', truncating='pre', value=0.0)\n",
    "x_dev=keras.preprocessing.sequence.pad_sequences(transformed_dev, maxlen=53, dtype='int32', padding='pre', truncating='pre', value=0.0)\n",
    "x_test=keras.preprocessing.sequence.pad_sequences(transformed_test, maxlen=53, dtype='int32', padding='pre', truncating='pre', value=0.0)\n",
    "print(x_train.shape,x_dev.shape,x_test.shape)\n",
    "\n"
   ]
  },
  {
   "cell_type": "markdown",
   "metadata": {},
   "source": [
    "## 3.2 - Design and train your model"
   ]
  },
  {
   "cell_type": "code",
   "execution_count": 20,
   "metadata": {},
   "outputs": [
    {
     "name": "stderr",
     "output_type": "stream",
     "text": [
      "C:\\ProgramData\\Anaconda3\\lib\\site-packages\\ipykernel_launcher.py:20: UserWarning: Update your `LSTM` call to the Keras 2 API: `LSTM(128, dropout=0.2, recurrent_dropout=0.2)`\n"
     ]
    }
   ],
   "source": [
    "# 4 - Design encoder + classifier using keras\n",
    "\n",
    "\n",
    "\n",
    "from keras.models import Sequential\n",
    "from keras.layers import Embedding, LSTM, Dense, Activation\n",
    "\n",
    "embed_dim  = 50  # word embedding dimension\n",
    "nhid       = 128  # number of hidden units in the LSTM\n",
    "vocab_size = n  # size of the vocabulary\n",
    "n_classes  = 5\n",
    "\n",
    "model = Sequential()\n",
    "model.add(Embedding(vocab_size, embed_dim))\n",
    "model.add(LSTM(nhid, dropout_W=0.2, dropout_U=0.2))\n",
    "model.add(Dense(n_classes, activation='softmax'))\n"
   ]
  },
  {
   "cell_type": "code",
   "execution_count": 21,
   "metadata": {},
   "outputs": [
    {
     "name": "stdout",
     "output_type": "stream",
     "text": [
      "_________________________________________________________________\n",
      "Layer (type)                 Output Shape              Param #   \n",
      "=================================================================\n",
      "embedding_1 (Embedding)      (None, None, 50)          766900    \n",
      "_________________________________________________________________\n",
      "lstm_1 (LSTM)                (None, 128)               91648     \n",
      "_________________________________________________________________\n",
      "dense_1 (Dense)              (None, 5)                 645       \n",
      "=================================================================\n",
      "Total params: 859,193\n",
      "Trainable params: 859,193\n",
      "Non-trainable params: 0\n",
      "_________________________________________________________________\n",
      "None\n"
     ]
    }
   ],
   "source": [
    "# 5 - Definingloss/optimizer/metrics\n",
    "\n",
    "\n",
    "loss_classif     =  'categorical_crossentropy' # find the right loss for multi-class classification\n",
    "optimizer        =  'adam' # find the right optimizer\n",
    "metrics_classif  =  ['accuracy']\n",
    "\n",
    "# Observe how easy (but blackboxed) this is in Keras\n",
    "model.compile(loss=loss_classif,\n",
    "              optimizer=optimizer,\n",
    "              metrics=metrics_classif)\n",
    "print(model.summary())"
   ]
  },
  {
   "cell_type": "code",
   "execution_count": 22,
   "metadata": {},
   "outputs": [
    {
     "name": "stdout",
     "output_type": "stream",
     "text": [
      "Train on 8544 samples, validate on 1101 samples\n",
      "Epoch 1/6\n",
      "8544/8544 [==============================] - 25s 3ms/step - loss: 1.5615 - acc: 0.2925 - val_loss: 1.4907 - val_acc: 0.3479\n",
      "Epoch 2/6\n",
      "8544/8544 [==============================] - 24s 3ms/step - loss: 1.3520 - acc: 0.4184 - val_loss: 1.3915 - val_acc: 0.3887\n",
      "Epoch 3/6\n",
      "8544/8544 [==============================] - 23s 3ms/step - loss: 1.0885 - acc: 0.5480 - val_loss: 1.4486 - val_acc: 0.3760\n",
      "Epoch 4/6\n",
      "8544/8544 [==============================] - 24s 3ms/step - loss: 0.8533 - acc: 0.6675 - val_loss: 1.6175 - val_acc: 0.3597\n",
      "Epoch 5/6\n",
      "8544/8544 [==============================] - 24s 3ms/step - loss: 0.6540 - acc: 0.7555 - val_loss: 1.9621 - val_acc: 0.3624\n",
      "Epoch 6/6\n",
      "8544/8544 [==============================] - 23s 3ms/step - loss: 0.5052 - acc: 0.8208 - val_loss: 2.1492 - val_acc: 0.3542\n"
     ]
    },
    {
     "data": {
      "text/plain": [
       "<Figure size 640x480 with 1 Axes>"
      ]
     },
     "metadata": {},
     "output_type": "display_data"
    }
   ],
   "source": [
    "# 6 - Traininig  model and finding the best hyperparameters for your dev set\n",
    "\n",
    "import matplotlib.pyplot as plt\n",
    "\n",
    "bs = 64\n",
    "epochs = 6\n",
    "\n",
    "history = model.fit(x_train, y_train, batch_size=bs, epochs=epochs, validation_data=(x_dev, y_dev))\n",
    "\n",
    "plt.plot(history.history['acc'])\n",
    "plt.plot(history.history['val_acc'])\n",
    "plt.title('model accuracy')\n",
    "plt.ylabel('accuracy')\n",
    "plt.xlabel('epoch')\n",
    "plt.legend(['train', 'dev'], loc='upper left')\n",
    "plt.show()"
   ]
  },
  {
   "cell_type": "code",
   "execution_count": 23,
   "metadata": {},
   "outputs": [
    {
     "data": {
      "image/png": "[encoded data removed]",
      "text/plain": [
       "<Figure size 432x288 with 1 Axes>"
      ]
     },
     "metadata": {
      "needs_background": "light"
     },
     "output_type": "display_data"
    }
   ],
   "source": [
    "plt.plot(history.history['acc'])\n",
    "plt.plot(history.history['val_acc'])\n",
    "plt.title('model loss')\n",
    "plt.ylabel('loss')\n",
    "plt.xlabel('epoch')\n",
    "plt.legend(['train', 'dev'], loc='upper left')\n",
    "plt.show()"
   ]
  },
  {
   "cell_type": "code",
   "execution_count": 24,
   "metadata": {},
   "outputs": [
    {
     "name": "stdout",
     "output_type": "stream",
     "text": [
      "[1, 3, 3, 2, 1, 2, 3, 4, 3, 1, 2, 3, 1, 3, 0, 1, 2, 1, 3, 3, 1, 0, 3, 3, 4, 1, 1, 3, 1, 3, 1, 1, 2, 1, 3, 1, 2, 2, 2, 3, 3, 3, 3, 3, 3, 3, 3, 1, 3, 3, 2, 2, 2, 0, 2, 3, 3, 1, 1, 3, 3, 3, 1, 1, 2, 3, 1, 3, 3, 1, 3, 3, 3, 1, 3, 3, 3, 3, 3, 1, 2, 1, 2, 2, 2, 1, 1, 3, 2, 0, 3, 3, 0, 3, 1, 1, 2, 2, 1, 1, 2, 2, 3, 3, 1, 2, 4, 3, 3, 3, 1, 2, 3, 3, 3, 1, 1, 3, 3, 2, 1, 4, 3, 1, 3, 3, 3, 3, 1, 1, 3, 3, 3, 1, 1, 2, 3, 2, 3, 0, 3, 0, 0, 1, 3, 1, 3, 1, 3, 1, 3, 2, 1, 2, 3, 1, 2, 1, 2, 3, 1, 3, 2, 1, 3, 2, 1, 3, 4, 2, 3, 3, 1, 1, 3, 1, 3, 3, 2, 1, 2, 3, 3, 1, 0, 3, 3, 3, 3, 3, 0, 3, 3, 3, 4, 2, 3, 2, 3, 2, 2, 4, 0, 2, 2, 2, 3, 3, 3, 0, 2, 3, 2, 4, 2, 1, 3, 0, 4, 1, 1, 2, 1, 1, 3, 2, 3, 2, 3, 3, 3, 3, 3, 0, 3, 2, 3, 2, 3, 2, 2, 1, 1, 3, 3, 4, 3, 3, 3, 1, 2, 0, 4, 2, 2, 1, 1, 1, 3, 2, 1, 2, 3, 2, 3, 3, 1, 1, 1, 1, 3, 3, 4, 3, 1, 3, 2, 4, 3, 2, 3, 4, 3, 1, 3, 3, 4, 0, 3, 2, 3, 1, 3, 1, 2, 3, 1, 3, 1, 3, 3, 3, 2, 3, 1, 1, 2, 3, 3, 0, 3, 4, 3, 3, 3, 2, 2, 2, 2, 3, 2, 3, 0, 3, 1, 1, 1, 3, 3, 2, 4, 1, 2, 3, 1, 3, 3, 4, 1, 3, 3, 3, 1, 1, 3, 2, 3, 1, 1, 2, 3, 1, 1, 4, 4, 2, 3, 3, 2, 2, 1, 2, 2, 1, 1, 3, 3, 2, 3, 3, 2, 1, 3, 3, 3, 3, 3, 1, 1, 1, 3, 3, 2, 3, 3, 1, 0, 1, 2, 0, 3, 2, 3, 2, 1, 1, 4, 3, 3, 1, 3, 3, 3, 1, 3, 1, 0, 3, 2, 4, 1, 3, 2, 3, 3, 2, 3, 1, 1, 3, 1, 3, 2, 1, 3, 2, 3, 2, 2, 3, 2, 4, 1, 3, 3, 3, 3, 2, 2, 2, 4, 1, 3, 1, 3, 3, 1, 2, 3, 3, 2, 4, 3, 0, 3, 3, 4, 1, 4, 2, 1, 3, 3, 3, 4, 2, 1, 2, 1, 2, 3, 2, 2, 1, 2, 1, 1, 3, 2, 2, 3, 3, 2, 3, 1, 1, 2, 2, 1, 0, 1, 1, 2, 2, 1, 2, 4, 3, 2, 4, 1, 1, 1, 3, 2, 0, 4, 2, 3, 1, 1, 3, 3, 3, 2, 3, 3, 2, 1, 3, 0, 1, 2, 1, 1, 2, 3, 2, 3, 1, 2, 1, 1, 3, 1, 3, 3, 1, 3, 2, 2, 1, 2, 2, 1, 3, 2, 3, 2, 0, 2, 1, 2, 3, 2, 3, 3, 2, 3, 2, 3, 1, 1, 3, 3, 1, 2, 3, 3, 3, 3, 4, 1, 3, 1, 1, 1, 4, 1, 3, 2, 3, 3, 3, 0, 1, 3, 3, 3, 1, 3, 1, 2, 3, 3, 1, 3, 3, 3, 1, 3, 2, 3, 1, 3, 4, 3, 1, 3, 1, 3, 2, 2, 3, 4, 1, 3, 2, 1, 1, 2, 1, 3, 3, 3, 2, 3, 1, 1, 4, 1, 3, 3, 0, 3, 3, 1, 3, 1, 3, 0, 2, 3, 2, 3, 2, 2, 3, 2, 3, 2, 2, 3, 3, 2, 3, 1, 2, 3, 1, 3, 4, 2, 1, 4, 1, 3, 3, 3, 3, 3, 3, 3, 0, 3, 2, 3, 3, 3, 0, 1, 3, 1, 1, 3, 2, 1, 2, 3, 3, 2, 1, 3, 3, 0, 2, 2, 2, 1, 2, 3, 1, 2, 3, 2, 3, 3, 0, 2, 1, 3, 1, 2, 3, 2, 3, 1, 3, 1, 2, 1, 3, 2, 3, 1, 0, 1, 4, 3, 3, 1, 4, 1, 3, 4, 2, 3, 3, 3, 1, 2, 2, 0, 1, 3, 4, 0, 3, 2, 1, 3, 3, 1, 3, 3, 2, 1, 3, 2, 1, 3, 1, 3, 3, 4, 2, 1, 1, 1, 2, 1, 1, 2, 1, 4, 3, 4, 3, 1, 3, 1, 3, 2, 3, 1, 3, 3, 1, 1, 1, 2, 1, 3, 3, 3, 2, 3, 1, 1, 2, 1, 1, 2, 3, 1, 1, 1, 1, 1, 1, 2, 1, 4, 2, 2, 2, 3, 2, 2, 3, 1, 2, 3, 2, 0, 2, 1, 3, 1, 2, 1, 3, 3, 2, 3, 3, 2, 2, 3, 3, 1, 3, 3, 2, 3, 1, 3, 3, 1, 0, 3, 1, 3, 3, 1, 2, 3, 1, 1, 1, 3, 3, 2, 3, 1, 2, 3, 2, 3, 2, 2, 3, 1, 3, 1, 2, 1, 3, 3, 1, 3, 1, 3, 1, 3, 3, 3, 2, 1, 2, 1, 3, 3, 1, 0, 1, 3, 3, 1, 3, 0, 1, 3, 3, 2, 3, 2, 1, 1, 1, 3, 3, 1, 0, 3, 3, 2, 3, 2, 3, 1, 3, 3, 3, 3, 3, 3, 2, 3, 1, 1, 1, 1, 2, 3, 3, 1, 1, 3, 2, 3, 1, 1, 1, 1, 2, 3, 1, 3, 2, 2, 2, 0, 2, 1, 2, 3, 3, 3, 1, 2, 1, 2, 2, 1, 2, 1, 4, 2, 3, 3, 1, 3, 2, 1, 3, 2, 3, 1, 2, 3, 2, 3, 3, 1, 2, 1, 3, 3, 1, 3, 1, 0, 2, 1, 1, 1, 3, 1, 1, 2, 0, 3, 2, 3, 1, 3, 3, 3, 3, 2, 3, 3, 1, 3, 2, 1, 2, 1, 2, 3, 1, 4, 2, 3, 1, 2, 1, 2, 3, 3, 1, 3, 4, 1, 2, 3, 1, 3, 0, 1, 4, 2, 1, 3, 3, 3, 3, 4, 4, 4, 3, 1, 3, 1, 1, 1, 1, 3, 3, 4, 3, 0, 1, 4, 2, 2, 3, 1, 3, 0, 2, 2, 3, 3, 3, 3, 3, 2, 1, 3, 2, 3, 1, 3, 2, 2, 3, 1, 3, 2, 1, 2, 4, 2, 1, 1, 3, 2, 2, 1, 4, 3, 3, 1, 1, 3, 0, 3, 1, 0, 3, 3, 1, 0, 4, 1, 2, 1, 2, 3, 1, 3, 1, 1, 3, 1, 1, 3, 3, 1, 1, 3, 1, 3, 1, 3, 1, 3, 3, 2, 3, 2, 3, 3, 0, 3, 3, 3, 2, 3, 1, 2, 2, 3, 3, 1, 0, 1, 1, 0, 1, 3, 3, 2, 2, 3, 3, 3, 1, 2, 3, 3, 2, 1, 0, 1, 0, 3, 2, 3, 2, 3, 3, 1, 1, 2, 3, 3, 3, 3, 2, 3, 1, 2, 1, 1, 0, 3, 2, 2, 3, 1, 2, 3, 3, 1, 2, 3, 3, 3, 4, 3, 2, 2, 2, 2, 2, 3, 1, 3, 2, 1, 3, 2, 3, 2, 3, 1, 3, 3, 3, 3, 3, 3, 3, 3, 2, 3, 2, 1, 1, 1, 3, 1, 2, 3, 1, 4, 3, 3, 2, 3, 1, 3, 3, 2, 3, 3, 3, 1, 3, 3, 2, 3, 1, 3, 2, 3, 3, 0, 1, 3, 2, 4, 3, 1, 1, 1, 3, 1, 2, 3, 2, 3, 1, 3, 3, 2, 2, 2, 3, 1, 2, 3, 3, 1, 3, 3, 1, 3, 3, 2, 3, 0, 2, 2, 2, 2, 3, 3, 3, 3, 3, 3, 1, 1, 2, 2, 1, 3, 2, 1, 1, 3, 2, 1, 2, 1, 3, 3, 2, 3, 3, 2, 2, 3, 2, 1, 1, 3, 0, 2, 1, 2, 3, 0, 3, 1, 3, 1, 2, 1, 1, 2, 0, 2, 4, 3, 3, 2, 3, 1, 1, 3, 1, 1, 3, 0, 3, 1, 1, 3, 1, 2, 2, 3, 2, 1, 1, 1, 0, 1, 1, 3, 1, 3, 3, 3, 1, 3, 2, 1, 2, 2, 3, 1, 3, 1, 1, 3, 2, 1, 3, 3, 3, 1, 2, 2, 3, 4, 2, 3, 0, 0, 3, 3, 1, 1, 1, 1, 1, 3, 3, 2, 2, 3, 1, 3, 1, 3, 0, 3, 3, 2, 3, 3, 3, 3, 3, 1, 3, 3, 3, 1, 3, 3, 3, 2, 2, 3, 2, 1, 3, 1, 3, 3, 0, 0, 3, 1, 1, 2, 3, 2, 3, 0, 1, 1, 2, 2, 1, 2, 2, 2, 1, 1, 3, 2, 3, 3, 3, 4, 4, 2, 3, 3, 2, 3, 3, 1, 3, 0, 0, 3, 2, 0, 2, 1, 3, 1, 1, 2, 0, 2, 3, 1, 3, 1, 2, 3, 2, 2, 2, 2, 2, 3, 0, 2, 3, 2, 1, 1, 3, 3, 2, 2, 2, 2, 2, 1, 3, 3, 2, 4, 2, 1, 2, 3, 1, 4, 1, 3, 2, 0, 3, 3, 2, 1, 3, 1, 3, 2, 3, 3, 3, 2, 1, 3, 2, 2, 3, 2, 2, 3, 1, 1, 3, 3, 2, 1, 1, 3, 3, 2, 3, 1, 2, 1, 1, 1, 2, 2, 1, 2, 2, 1, 2, 2, 3, 1, 3, 3, 1, 1, 3, 3, 2, 2, 3, 2, 3, 0, 4, 3, 0, 1, 3, 2, 2, 1, 3, 1, 0, 3, 3, 3, 2, 3, 3, 3, 2, 3, 1, 1, 3, 1, 4, 3, 3, 4, 0, 3, 3, 2, 3, 2, 0, 3, 0, 3, 1, 3, 1, 3, 3, 3, 2, 1, 1, 3, 3, 1, 3, 1, 3, 3, 1, 3, 3, 3, 2, 3, 2, 1, 3, 2, 3, 2, 3, 2, 3, 2, 1, 3, 3, 3, 1, 3, 2, 2, 1, 0, 3, 1, 1, 2, 2, 3, 3, 0, 3, 3, 3, 2, 3, 2, 3, 1, 3, 1, 2, 3, 2, 3, 3, 1, 3, 0, 4, 1, 2, 1, 4, 0, 0, 1, 3, 3, 1, 3, 2, 1, 1, 3, 1, 3, 3, 1, 3, 2, 3, 2, 1, 1, 2, 1, 4, 3, 3, 1, 3, 3, 3, 3, 2, 2, 4, 1, 3, 0, 2, 3, 3, 3, 3, 3, 1, 1, 3, 2, 3, 3, 1, 3, 3, 1, 3, 3, 1, 3, 2, 3, 2, 1, 2, 3, 3, 2, 3, 1, 1, 1, 3, 3, 1, 3, 4, 1, 2, 2, 3, 2, 3, 4, 1, 2, 1, 3, 3, 1, 3, 1, 2, 3, 2, 3, 3, 1, 1, 1, 2, 2, 3, 3, 2, 2, 2, 3, 2, 2, 1, 1, 2, 3, 3, 3, 1, 1, 2, 1, 3, 1, 3, 4, 1, 3, 2, 1, 3, 1, 1, 3, 3, 4, 1, 3, 1, 1, 2, 3, 3, 2, 3, 1, 3, 3, 3, 3, 4, 2, 0, 3, 3, 1, 3, 1, 3, 3, 4, 1, 1, 3, 1, 0, 2, 4, 2, 2, 1, 1, 0, 2, 3, 3, 3, 0, 3, 3, 1, 2, 1, 3, 2, 3, 3, 3, 1, 3, 4, 3, 2, 2, 4, 3, 1, 3, 3, 3, 3, 1, 0, 4, 3, 1, 3, 2, 3, 3, 1, 2, 2, 1, 1, 1, 3, 2, 3, 2, 2, 3, 3, 1, 3, 2, 1, 2, 2, 4, 1, 1, 3, 1, 2, 3, 3, 3, 1, 1, 2, 1, 2, 3, 3, 2, 1, 2, 2, 1, 1, 2, 3, 3, 1, 3, 2, 0, 1, 2, 3, 1, 0, 1, 3, 1, 4, 3, 2, 3, 3, 3, 3, 1, 2, 1, 3, 1, 2, 0, 2, 1, 3, 3, 1, 3, 2, 1, 2, 1, 0, 3, 2, 3, 1, 0, 0, 3, 3, 1, 3, 3, 3, 1, 1, 0, 3, 1, 2, 2, 1, 3, 3, 1, 3, 1, 2, 3, 3, 1, 3, 3, 2, 3, 1, 1, 3, 3, 1, 3, 1, 3, 3, 1, 1, 1, 2, 1, 3, 1, 2, 1, 2, 1, 2, 1, 1, 2, 3, 1, 3, 3, 1, 1, 3, 3, 2, 4, 1, 1, 3, 2, 3, 3, 3, 3, 3, 1, 3, 3, 3, 3, 1, 2, 2, 1, 3, 1, 2, 2, 2, 1, 4, 1, 0, 2, 0, 2, 3, 2, 1, 2, 3, 2, 1, 3, 1, 3, 2, 1, 1, 1, 0, 0, 3, 2, 3, 1, 1, 2, 3, 3, 3, 3, 2, 3, 3, 0, 2, 3, 3, 3, 1, 3, 3, 1, 1, 3, 2, 0, 3, 3, 1, 1, 2, 2, 2, 1, 1, 3, 3, 3, 3, 3, 3, 3, 1, 3, 3, 3, 2, 4, 1, 3, 3, 1, 3, 1, 3, 4, 1, 3, 2, 1, 3, 1, 3, 3, 2, 3, 1, 2, 2, 3, 4, 3, 1, 2, 2, 2, 3, 2, 3, 3, 3, 1, 3, 0, 1, 3, 3, 1, 2, 3, 0, 2, 1, 3, 3, 3, 3]\n"
     ]
    }
   ],
   "source": [
    "# 7 - Generate your predictions on the test set using model.predict(x_test)\n",
    "#     https://keras.io/models/model/\n",
    "#     Log your predictions in a file (one line = one integer: 0,1,2,3,4)\n",
    "#     Attach the output file \"logreg_lstm_y_test_sst.txt\" to your deliverable.\n",
    "\n",
    "\n",
    "output3=[]\n",
    "pred=model.predict(x_test)\n",
    "for i in pred:\n",
    "    output3.append(np.argmax(i))\n",
    "\n",
    "print(output3)\n",
    "np.savetxt(\"logreg_lstm_y_test_sst.txt\",output3)"
   ]
  },
  {
   "cell_type": "markdown",
   "metadata": {},
   "source": [
    "## 3.3 -- innovate !"
   ]
  },
  {
   "cell_type": "code",
   "execution_count": 34,
   "metadata": {},
   "outputs": [
    {
     "name": "stdout",
     "output_type": "stream",
     "text": [
      "(8544, 53, 1)\n",
      "(1101, 53, 1)\n",
      "15338\n",
      "_________________________________________________________________\n",
      "Layer (type)                 Output Shape              Param #   \n",
      "=================================================================\n",
      "conv1d_14 (Conv1D)           (None, 53, 100)           200       \n",
      "_________________________________________________________________\n",
      "conv1d_15 (Conv1D)           (None, 53, 100)           10100     \n",
      "_________________________________________________________________\n",
      "max_pooling1d_6 (MaxPooling1 (None, 17, 100)           0         \n",
      "_________________________________________________________________\n",
      "dropout_1 (Dropout)          (None, 17, 100)           0         \n",
      "_________________________________________________________________\n",
      "flatten_5 (Flatten)          (None, 1700)              0         \n",
      "_________________________________________________________________\n",
      "dense_6 (Dense)              (None, 5)                 8505      \n",
      "=================================================================\n",
      "Total params: 18,805\n",
      "Trainable params: 18,805\n",
      "Non-trainable params: 0\n",
      "_________________________________________________________________\n",
      "None\n",
      "Train on 8544 samples, validate on 1101 samples\n",
      "Epoch 1/6\n",
      "8544/8544 [==============================] - 5s 543us/step - loss: 11.7666 - acc: 0.2592 - val_loss: 11.6262 - val_acc: 0.2743\n",
      "Epoch 2/6\n",
      "8544/8544 [==============================] - 4s 426us/step - loss: 11.6241 - acc: 0.2684 - val_loss: 11.9272 - val_acc: 0.2570\n",
      "Epoch 3/6\n",
      "8544/8544 [==============================] - 4s 429us/step - loss: 11.5424 - acc: 0.2741 - val_loss: 11.7954 - val_acc: 0.2652\n",
      "Epoch 4/6\n",
      "8544/8544 [==============================] - 4s 421us/step - loss: 11.6313 - acc: 0.2685 - val_loss: 11.9274 - val_acc: 0.2570\n",
      "Epoch 5/6\n",
      "8544/8544 [==============================] - 4s 436us/step - loss: 11.5727 - acc: 0.2722 - val_loss: 11.9273 - val_acc: 0.2570\n",
      "Epoch 6/6\n",
      "8544/8544 [==============================] - 4s 452us/step - loss: 11.5765 - acc: 0.2720 - val_loss: 11.9271 - val_acc: 0.2570\n"
     ]
    },
    {
     "data": {
      "image/png": "[encoded data removed]",
      "text/plain": [
       "<Figure size 432x288 with 1 Axes>"
      ]
     },
     "metadata": {
      "needs_background": "light"
     },
     "output_type": "display_data"
    }
   ],
   "source": [
    "# 8 - Open question: find a model that is better on your dev set\n",
    "\n",
    "from keras.layers.convolutional import Conv1D\n",
    "from keras.layers import Dropout\n",
    "from keras.layers import Flatten\n",
    "from keras.layers import MaxPooling1D\n",
    "x_train2= np.expand_dims(x_train, axis=2) \n",
    "x_test2=np.expand_dims(x_test, axis=2) \n",
    "\n",
    "print(x_train2.shape)\n",
    "x_dev2=np.expand_dims(x_dev, axis=2)\n",
    "print(x_dev2.shape)\n",
    "# TYPE CODE HERE\n",
    "model_m=Sequential()\n",
    "print(vocab_size)\n",
    "\n",
    "\n",
    "model_m.add(Conv1D(100, 1, activation='relu', input_shape=(53,1)))\n",
    "model_m.add(Conv1D(100, 1, activation='relu'))\n",
    "model_m.add(MaxPooling1D(3))\n",
    "model_m.add(Dropout(0.5))\n",
    "model_m.add(Flatten())\n",
    "model_m.add(Dense(5, activation='softmax'))\n",
    "\n",
    "loss_classif     =  'categorical_crossentropy' # find the right loss for multi-class classification\n",
    "optimizer        =  'adam' # find the right optimizer\n",
    "metrics_classif  =  ['accuracy']\n",
    "\n",
    "\n",
    "model_m.compile(loss=loss_classif,\n",
    "              optimizer=optimizer,\n",
    "              metrics=metrics_classif)\n",
    "print(model_m.summary())\n",
    "bs = 64\n",
    "epochs = 6\n",
    "\n",
    "history = model_m.fit(x_train2, y_train, batch_size=bs, epochs=epochs, validation_data=(x_dev2, y_dev))\n",
    "\n",
    "plt.plot(history.history['acc'])\n",
    "plt.plot(history.history['val_acc'])\n",
    "plt.title('model accuracy')\n",
    "plt.ylabel('accuracy')\n",
    "plt.xlabel('epoch')\n",
    "plt.legend(['train', 'test'], loc='upper left')\n",
    "plt.show()"
   ]
  },
  {
   "cell_type": "code",
   "execution_count": 36,
   "metadata": {},
   "outputs": [],
   "source": [
    "output4=[]\n",
    "pred2=model_m.predict(x_test2)\n",
    "for i in pred:\n",
    "    output4.append(np.argmax(i))\n",
    "\n",
    "np.savetxt(\"conv1D_2layers_y_test_sst.txt\",output4)"
   ]
  }
 ],
 "metadata": {
  "kernelspec": {
   "display_name": "Python 3",
   "language": "python",
   "name": "python3"
  },
  "language_info": {
   "codemirror_mode": {
    "name": "ipython",
    "version": 3
   },
   "file_extension": ".py",
   "mimetype": "text/x-python",
   "name": "python",
   "nbconvert_exporter": "python",
   "pygments_lexer": "ipython3",
   "version": "3.6.0"
  }
 },
 "nbformat": 4,
 "nbformat_minor": 1
}

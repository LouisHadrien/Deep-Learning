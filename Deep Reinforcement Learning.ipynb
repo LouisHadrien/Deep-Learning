{
 "cells": [
  {
   "cell_type": "code",
   "execution_count": 1,
   "metadata": {},
   "outputs": [
    {
     "name": "stderr",
     "output_type": "stream",
     "text": [
      "Using TensorFlow backend.\n"
     ]
    }
   ],
   "source": [
    "import keras\n",
    "import numpy as np\n",
    "import io\n",
    "import base64\n",
    "from IPython.display import HTML\n",
    "import skvideo.io\n",
    "import cv2\n",
    "import json\n",
    "import random\n",
    "\n",
    "from keras.models import Sequential,model_from_json\n",
    "from keras.layers.core import Dense,Dropout,Flatten\n",
    "from keras.optimizers import sgd\n",
    "from keras.layers import Conv2D, MaxPooling2D, Activation, AveragePooling2D,Reshape,BatchNormalization"
   ]
  },
  {
   "cell_type": "markdown",
   "metadata": {},
   "source": [
    "# Context"
   ]
  },
  {
   "cell_type": "markdown",
   "metadata": {},
   "source": [
    "In a reinforcement learning algorithm, we modelize each step $t$ as an action $a_t$ obtained from a state $s_t$, i.e. $\\{(a_{t},s_{t})_{t\\leq T}\\}$ having the Markov property. We consider a discount factor $\\gamma \\in [0,1]$ that ensures convergence. The goal is to find among all the policies $\\pi$, one that maximizes the expected reward:\n",
    "\n",
    "\\begin{equation*}\n",
    "R(\\pi)=\\sum_{t\\leq T}E_{p^{\\pi}}[\\gamma^t r(s_{t},a_{t})] \\> ,\n",
    "\\end{equation*}\n",
    "\n",
    "where: \n",
    "\\begin{equation*}p^{\\pi}(a_{0},a_{1},s_{1},...,a_{T},s_{T})=p(a_{0})\\prod_{t=1}^{T}\\pi(a_{t}|s_{t})p(s_{t+1}|s_{t},a_{t}) \\> .\n",
    "\\end{equation*}\n",
    "\n",
    "We note the $Q$-function:\n",
    "\n",
    "\\begin{equation*}Q^\\pi(s,a)=E_{p^{\\pi}}[\\sum_{t\\leq T}\\gamma^{t}r(s_{t},a_{t})|s_{0}=s,a_{0}=a] \\> .\n",
    "\\end{equation*}\n",
    "\n",
    "Thus, the optimal Q function is:\n",
    "\\begin{equation*}\n",
    "Q^*(s,a)=\\max_{\\pi}Q^\\pi(s,a) \\> .\n",
    "\\end{equation*}\n",
    "\n",
    "In this project, we will apply the deep reinforcement learning techniques to a simple game: an agent will have to learn from scratch a policy that will permit it maximizing a reward."
   ]
  },
  {
   "cell_type": "markdown",
   "metadata": {},
   "source": [
    "## The environment, the agent and the game"
   ]
  },
  {
   "cell_type": "markdown",
   "metadata": {},
   "source": [
    "### The environment"
   ]
  },
  {
   "cell_type": "code",
   "execution_count": 2,
   "metadata": {},
   "outputs": [],
   "source": [
    "class Environment(object):\n",
    "    def __init__(self):\n",
    "        pass\n",
    "\n",
    "    def act(self, act):\n",
    "        \"\"\"\n",
    "        One can act on the environment and obtain its reaction:\n",
    "        - the new state\n",
    "        - the reward of the new state\n",
    "        - should we continue the game?\n",
    "\n",
    "        :return: state, reward, game_over\n",
    "        \"\"\"\n",
    "        pass\n",
    "\n",
    "\n",
    "    def reset(self):\n",
    "        \"\"\"\n",
    "        Reinitialize the environment to a random state and returns\n",
    "        the original state\n",
    "\n",
    "        :return: state\n",
    "        \"\"\"\n",
    "        pass\n",
    "    \n",
    "    def draw(self):\n",
    "        \"\"\"\n",
    "        Visualize in the console or graphically the current state\n",
    "        \"\"\"\n",
    "        pass"
   ]
  },
  {
   "cell_type": "markdown",
   "metadata": {},
   "source": [
    "```Environment``` is an abstract class that represents the states, rewards, and actions to obtain the new state."
   ]
  },
  {
   "cell_type": "markdown",
   "metadata": {},
   "source": [
    "The method ```act``` allows to act on the environment at a given state $s_t$ (stored internally), via action $a_t$. The method will return the new state $s_{t+1}$, the reward $r(s_{t},a_{t})$ and determines if $t\\leq T$ (*game_over*).\n",
    "\n",
    "The method ```reset``` simply reinitializes the environment to a random state $s_0$.\n",
    "\n",
    "The method ```draw``` displays the current state $s_t$ (this is useful to check the behavior of the Agent).\n",
    "\n",
    "We modelize $s_t$ as a tensor, while $a_t$ is an integer."
   ]
  },
  {
   "cell_type": "markdown",
   "metadata": {},
   "source": [
    "### The Agent"
   ]
  },
  {
   "cell_type": "markdown",
   "metadata": {},
   "source": [
    "The goal of the ```Agent``` is to interact with the ```Environment``` by proposing actions $a_t$ obtained from a given state $s_t$ to attempt to maximize its __reward__ $r(s_t,a_t)$. We propose the following abstract class:"
   ]
  },
  {
   "cell_type": "code",
   "execution_count": 3,
   "metadata": {},
   "outputs": [],
   "source": [
    "class Agent(object):\n",
    "    def __init__(self, epsilon=0.1, n_action=4):\n",
    "        self.epsilon = epsilon\n",
    "        self.n_action = n_action\n",
    "    \n",
    "    def set_epsilon(self,e):\n",
    "        self.epsilon = e\n",
    "\n",
    "    def act(self,s,train=True):\n",
    "        \"\"\" This function should return the next action to do:\n",
    "        an integer between 0 and 4 (not included) with a random exploration of epsilon\"\"\"\n",
    "        if train:\n",
    "            if np.random.rand() <= self.epsilon:\n",
    "                a = np.random.randint(0, self.n_action, size=1)[0]\n",
    "            else:\n",
    "                a = self.learned_act(s)\n",
    "        else: # in some cases, this can improve the performance.. remove it if poor performances\n",
    "            a = self.learned_act(s)\n",
    "\n",
    "        return a\n",
    "\n",
    "    def learned_act(self,s):\n",
    "        \"\"\" Act via the policy of the agent, from a given state s\n",
    "        it proposes an action a\"\"\"\n",
    "        pass\n",
    "\n",
    "    def reinforce(self, s, n_s, a, r, game_over_):\n",
    "        \"\"\" This function is the core of the learning algorithm. \n",
    "        It takes as an input the current state s_, the next state n_s_\n",
    "        the action a_ used to move from s_ to n_s_ and the reward r_.\n",
    "        \n",
    "        Its goal is to learn a policy.\n",
    "        \"\"\"\n",
    "        pass\n",
    "\n",
    "    def save(self):\n",
    "        \"\"\" This function returns basic stats if applicable: the\n",
    "        loss and/or the model\"\"\"\n",
    "        pass\n",
    "\n",
    "    def load(self):\n",
    "        \"\"\" This function allows to restore a model\"\"\"\n",
    "        pass"
   ]
  },
  {
   "cell_type": "markdown",
   "metadata": {},
   "source": [
    "***\n",
    "### The Game"
   ]
  },
  {
   "cell_type": "markdown",
   "metadata": {},
   "source": [
    "The ```Agent``` and the ```Environment``` work in an interlaced way as in the following (take some time to understand this code as it is the core of the project)\n",
    "\n",
    "```python\n",
    "\n",
    "epoch = 300\n",
    "env = Environment()\n",
    "agent = Agent()\n",
    "\n",
    "\n",
    "# Number of won games\n",
    "score = 0\n",
    "loss = 0\n",
    "\n",
    "\n",
    "for e in range(epoch):\n",
    "    # At each epoch, we restart to a fresh game and get the initial state\n",
    "    state = env.reset()\n",
    "    # This assumes that the games will end\n",
    "    game_over = False\n",
    "\n",
    "    win = 0\n",
    "    lose = 0\n",
    "    \n",
    "    while not game_over:\n",
    "        # The agent performs an action\n",
    "        action = agent.act(state)\n",
    "\n",
    "        # Apply an action to the environment, get the next state, the reward\n",
    "        # and if the games end\n",
    "        prev_state = state\n",
    "        state, reward, game_over = env.act(action)\n",
    "\n",
    "        # Update the counters\n",
    "        if reward > 0:\n",
    "            win = win + reward\n",
    "        if reward < 0:\n",
    "            lose = lose -reward\n",
    "\n",
    "        # Apply the reinforcement strategy\n",
    "        loss = agent.reinforce(prev_state, state,  action, reward, game_over)\n",
    "\n",
    "    # Save as a mp4\n",
    "    if e % 10 == 0:\n",
    "        env.draw(e)\n",
    "\n",
    "    # Update stats\n",
    "    score += win-lose\n",
    "\n",
    "    print(\"Epoch {:03d}/{:03d} | Loss {:.4f} | Win/lose count {}/{} ({})\"\n",
    "          .format(e, epoch, loss, win, lose, win-lose))\n",
    "    agent.save()\n",
    "```"
   ]
  },
  {
   "cell_type": "markdown",
   "metadata": {},
   "source": [
    "# The game, *eat cheese*"
   ]
  },
  {
   "cell_type": "markdown",
   "metadata": {},
   "source": [
    "A rat runs on an island and tries to eat as much as possible. The island is subdivided into $N\\times N$ cells, in which there are cheese (+0.5) and poisonous cells (-1). The rat has a visibility of 2 cells (thus it can see $5^2$ cells). The rat is given a time $T$ to accumulate as much food as possible. It can perform 4 actions: going up, down, left, right. \n",
    "\n",
    "The goal is to code an agent to solve this task that will learn by trial and error. We propose the following environment:"
   ]
  },
  {
   "cell_type": "code",
   "execution_count": 4,
   "metadata": {},
   "outputs": [],
   "source": [
    "class Environment(object):\n",
    "    def __init__(self, grid_size=10, max_time=500, temperature=0.1):\n",
    "        grid_size = grid_size+4\n",
    "        self.grid_size = grid_size\n",
    "        self.max_time = max_time\n",
    "        self.temperature = temperature\n",
    "\n",
    "        #board on which one plays\n",
    "        self.board = np.zeros((grid_size,grid_size))\n",
    "        self.position = np.zeros((grid_size,grid_size))\n",
    "\n",
    "        # coordinate of the rat\n",
    "        self.x = 0\n",
    "        self.y = 1\n",
    "\n",
    "        # self time\n",
    "        self.t = 0\n",
    "\n",
    "        self.scale=16\n",
    "\n",
    "        self.to_draw = np.zeros((max_time+2, grid_size*self.scale, grid_size*self.scale, 3))\n",
    "\n",
    "\n",
    "    def draw(self,e):\n",
    "        skvideo.io.vwrite(str(e) + '.mp4', self.to_draw)\n",
    "\n",
    "    def get_frame(self,t):\n",
    "        b = np.zeros((self.grid_size,self.grid_size,3))+128\n",
    "        b[self.board>0,0] = 256\n",
    "        b[self.board < 0, 2] = 256\n",
    "        b[self.x,self.y,:]=256\n",
    "        b[-2:,:,:]=0\n",
    "        b[:,-2:,:]=0\n",
    "        b[:2,:,:]=0\n",
    "        b[:,:2,:]=0\n",
    "        \n",
    "        b =  cv2.resize(b, None, fx=self.scale, fy=self.scale, interpolation=cv2.INTER_NEAREST)\n",
    "\n",
    "        self.to_draw[t,:,:,:]=b\n",
    "\n",
    "\n",
    "    def act(self, action):\n",
    "        \"\"\"This function returns the new state, reward and decides if the\n",
    "        game ends.\"\"\"\n",
    "\n",
    "        self.get_frame(int(self.t))\n",
    "\n",
    "        self.position = np.zeros((self.grid_size, self.grid_size))\n",
    "\n",
    "        self.position[0:2,:]= -1\n",
    "        self.position[:,0:2] = -1\n",
    "        self.position[-2:, :] = -1\n",
    "        self.position[:, -2:] = -1# change column\n",
    "\n",
    "        self.position[self.x, self.y] = 1\n",
    "        if action == 0:# go right unless outofmap\n",
    "            if self.x == self.grid_size-3:\n",
    "                self.x = self.x-1\n",
    "            else:\n",
    "                self.x = self.x + 1\n",
    "        elif action == 1: #go left unless outofmap\n",
    "            if self.x == 2:\n",
    "                self.x = self.x+1\n",
    "            else:\n",
    "                self.x = self.x-1\n",
    "        elif action == 2:#go up\n",
    "            if self.y == self.grid_size - 3:\n",
    "                self.y = self.y - 1\n",
    "            else:\n",
    "                self.y = self.y + 1\n",
    "        elif action == 3:#go down\n",
    "            if self.y == 2:\n",
    "                self.y = self.y + 1\n",
    "            else:\n",
    "                self.y = self.y - 1\n",
    "        else:\n",
    "            RuntimeError('Error: action not recognized')\n",
    "\n",
    "        self.t = self.t + 1\n",
    "        reward = self.board[self.x, self.y]\n",
    "        self.board[self.x, self.y] = 0 # rat ate either poison or cheese, nothing remains\n",
    "        game_over = self.t > self.max_time\n",
    "        state = np.concatenate((self.board.reshape(self.grid_size, self.grid_size,1),\n",
    "                        self.position.reshape(self.grid_size, self.grid_size,1)),axis=2)\n",
    "        state = state[self.x-2:self.x+3,self.y-2:self.y+3,:]# rat visibility is 2 cells\n",
    "\n",
    "        return state, reward, game_over\n",
    "\n",
    "    def reset(self):\n",
    "        \"\"\"This function resets the game and returns the initial state\"\"\"\n",
    "\n",
    "        self.x = np.random.randint(3, self.grid_size-3, size=1)[0]\n",
    "        self.y = np.random.randint(3, self.grid_size-3, size=1)[0]\n",
    "\n",
    "\n",
    "        bonus = 0.5*np.random.binomial(1,self.temperature,size=self.grid_size**2)\n",
    "        bonus = bonus.reshape(self.grid_size,self.grid_size)\n",
    "\n",
    "        malus = -1.0*np.random.binomial(1,self.temperature,size=self.grid_size**2)\n",
    "        malus = malus.reshape(self.grid_size, self.grid_size)\n",
    "\n",
    "        self.to_draw = np.zeros((self.max_time+2, self.grid_size*self.scale, self.grid_size*self.scale, 3))\n",
    "\n",
    "\n",
    "        malus[bonus>0]=0 #to avoid having a bonus and a malus on the same cell\n",
    "\n",
    "        self.board = bonus + malus\n",
    "\n",
    "        self.position = np.zeros((self.grid_size, self.grid_size))\n",
    "        self.position[0:2,:]= -1\n",
    "        self.position[:,0:2] = -1\n",
    "        self.position[-2:, :] = -1\n",
    "        self.position[:, -2:] = -1\n",
    "        self.board[self.x,self.y] = 0\n",
    "        self.t = 0\n",
    "        #print(self.board)#.reshape(self.grid_size, self.grid_size,1))\n",
    "        state = np.concatenate((\n",
    "                               self.board.reshape(self.grid_size, self.grid_size,1),\n",
    "                        self.position.reshape(self.grid_size, self.grid_size,1)),axis=2) #line by line\n",
    "        \n",
    "        state = state[self.x - 2:self.x + 3, self.y - 2:self.y + 3, :]\n",
    "        return state"
   ]
  },
  {
   "cell_type": "markdown",
   "metadata": {},
   "source": [
    "The following elements are important because they correspond to the hyper parameters for this project:"
   ]
  },
  {
   "cell_type": "code",
   "execution_count": 5,
   "metadata": {},
   "outputs": [],
   "source": [
    "# parameters\n",
    "size = 10\n",
    "T=200\n",
    "temperature=0.3\n",
    "epochs_train=10 # set small when debugging\n",
    "epochs_test=20 # set small when debugging\n",
    "\n",
    "# display videos\n",
    "def display_videos(name):\n",
    "    video = io.open(name, 'r+b').read()\n",
    "    encoded = base64.b64encode(video)\n",
    "    return '''<video alt=\"test\" controls>\n",
    "                <source src=\"data:video/mp4;base64,{0}\" type=\"video/mp4\" />\n",
    "             </video>'''.format(encoded.decode('ascii'))"
   ]
  },
  {
   "cell_type": "markdown",
   "metadata": {},
   "source": [
    "## Random Agent"
   ]
  },
  {
   "cell_type": "markdown",
   "metadata": {},
   "source": [
    "***\n",
    "__Question 1__ Implement a random Agent (only ```learned_act``` needs to be implemented):"
   ]
  },
  {
   "cell_type": "code",
   "execution_count": 6,
   "metadata": {},
   "outputs": [],
   "source": [
    "class RandomAgent(Agent):\n",
    "    def __init__(self):\n",
    "        super(RandomAgent, self).__init__()\n",
    "        pass\n",
    "\n",
    "    def learned_act(self, s):\n",
    "        #get reward of closest cells\n",
    "        up=s[1][:,0][2]\n",
    "        left=s[2][:,0][1]\n",
    "        right=s[2][:,0][3]\n",
    "        down=s[3][:,0][2]\n",
    "        #up:2\n",
    "        #down:3\n",
    "        #left:1\n",
    "        #right:0\n",
    "        directions=[right,left,up,down]\n",
    "        possible_direc = [i for i,j in enumerate(directions) if j==max(directions)]\n",
    "        \n",
    "\n",
    "        \n",
    "        if isinstance(possible_direc,np.integer):\n",
    "            action=possible_direc\n",
    "        else:\n",
    "\n",
    "            action=random.choice(possible_direc)\n",
    "\n",
    "        return action"
   ]
  },
  {
   "cell_type": "code",
   "execution_count": 7,
   "metadata": {},
   "outputs": [],
   "source": [
    "# for debugging \n",
    "env = Environment(grid_size=size, max_time=T,temperature=temperature)\n",
    "agent=RandomAgent()\n",
    "#print(np.random.randint(3, size-3, size=1)[0],np.random.randint(3, size-3, size=1)[0])\n",
    "state=env.reset()\n"
   ]
  },
  {
   "cell_type": "markdown",
   "metadata": {},
   "source": [
    "***\n",
    "__Question 2__ Visualize the game moves. You need to fill in the following function for the evaluation:"
   ]
  },
  {
   "cell_type": "code",
   "execution_count": 9,
   "metadata": {},
   "outputs": [],
   "source": [
    "def test(agent,env,epochs,prefix=''):\n",
    "    # Number of won games\n",
    "    score = 0\n",
    "    #state=env.reset()\n",
    "    for e in range(epochs):\n",
    "        \n",
    "        ##### FILL IN HERE\n",
    "        # At each epoch, we restart to a fresh game and get the initial state\n",
    "        state = env.reset()\n",
    "        # This assumes that the games will terminate\n",
    "        game_over = False\n",
    "\n",
    "        win = 0\n",
    "        lose = 0\n",
    "\n",
    "        while not game_over:\n",
    "            # The agent performs an action\n",
    "            action = agent.act(state)\n",
    "            #print(action)\n",
    "\n",
    "            # Apply an action to the environment, get the next state, the reward\n",
    "            # and if the games end\n",
    "            #prev_state = state\n",
    "            state, reward, game_over = env.act(action)\n",
    "\n",
    "            # Update the counters\n",
    "            if reward > 0:\n",
    "                win = win + reward\n",
    "            if reward < 0:\n",
    "                lose = lose -reward\n",
    "        # Save as a mp4\n",
    "        env.draw(prefix+str(e))\n",
    "\n",
    "        # Update stats\n",
    "        score = score + win-lose\n",
    "\n",
    "        print(\"Win/lose count {}/{}. Average score ({})\"\n",
    "              .format(win, lose, score/(1+e)))\n",
    "    print('Final score: '+str(score/epochs))"
   ]
  },
  {
   "cell_type": "code",
   "execution_count": 10,
   "metadata": {},
   "outputs": [
    {
     "name": "stdout",
     "output_type": "stream",
     "text": [
      "Win/lose count 6.0/11.0. Average score (-5.0)\n",
      "Win/lose count 3.5/12.0. Average score (-6.75)\n",
      "Win/lose count 1.5/5.0. Average score (-5.666666666666667)\n",
      "Win/lose count 4.5/11.0. Average score (-5.875)\n",
      "Win/lose count 1.5/8.0. Average score (-6.0)\n",
      "Win/lose count 3.5/13.0. Average score (-6.583333333333333)\n",
      "Win/lose count 3.0/14.0. Average score (-7.214285714285714)\n",
      "Win/lose count 5.0/14.0. Average score (-7.4375)\n",
      "Win/lose count 4.0/16.0. Average score (-7.944444444444445)\n",
      "Win/lose count 4.5/13.0. Average score (-8.0)\n",
      "Win/lose count 4.0/3.0. Average score (-7.181818181818182)\n",
      "Win/lose count 4.5/11.0. Average score (-7.125)\n",
      "Win/lose count 2.5/5.0. Average score (-6.769230769230769)\n",
      "Win/lose count 5.0/16.0. Average score (-7.071428571428571)\n",
      "Win/lose count 2.0/12.0. Average score (-7.266666666666667)\n",
      "Win/lose count 4.0/18.0. Average score (-7.6875)\n",
      "Win/lose count 4.5/9.0. Average score (-7.5)\n",
      "Win/lose count 3.0/12.0. Average score (-7.583333333333333)\n",
      "Win/lose count 5.5/6.0. Average score (-7.2105263157894735)\n",
      "Win/lose count 2.5/11.0. Average score (-7.275)\n",
      "Final score: -7.275\n"
     ]
    },
    {
     "data": {
      "text/html": [
       "<video alt=\"test\" controls>\n",
       "                <source src=\"data:video/mp4;base64,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\" type=\"video/mp4\" />\n",
       "             </video>"
      ],
      "text/plain": [
       "<IPython.core.display.HTML object>"
      ]
     },
     "execution_count": 10,
     "metadata": {},
     "output_type": "execute_result"
    }
   ],
   "source": [
    "# Initialize the game\n",
    "env = Environment(grid_size=size, max_time=T,temperature=temperature)\n",
    "\n",
    "# Initialize the agent!\n",
    "agent = RandomAgent()\n",
    "\n",
    "test(agent,env,epochs_test,prefix='random')\n",
    "HTML(display_videos('random0.mp4'))"
   ]
  },
  {
   "cell_type": "markdown",
   "metadata": {},
   "source": [
    "***\n",
    "## DQN"
   ]
  },
  {
   "cell_type": "markdown",
   "metadata": {},
   "source": [
    "***\n",
    "The DQN-learning algorithm relies on these derivations to train the parameters $\\theta$ of a Deep Neural Network:\n",
    "\n",
    "1. At the state $s_t$, select the action $a_t$ with best reward using $Q_t$ and store the results;\n",
    "\n",
    "2. Obtain the new state $s_{t+1}$ from the environment $p$;\n",
    "\n",
    "3. Store $(s_t,a_t,s_{t+1})$;\n",
    "\n",
    "4. Obtain $Q_{t+1}$ by minimizing  $\\mathcal{L}$ from a recovered batch from the previously stored results.\n",
    "\n",
    "***\n",
    "__Question 3__ Implement the class ```Memory``` that stores moves (in a replay buffer) via ```remember``` and provides a ```random_access``` to these. Specify a maximum memory size to avoid side effects. You can for example use a ```list()``` and set by default ```max_memory=100```."
   ]
  },
  {
   "cell_type": "code",
   "execution_count": 11,
   "metadata": {},
   "outputs": [],
   "source": [
    "from collections import deque\n",
    "class Memory(object):\n",
    "    def __init__(self, max_memory=100):\n",
    "        self.max_memory = max_memory\n",
    "        self.memory =  deque(maxlen=self.max_memory) # deque is collection that allows max len for a list\n",
    "\n",
    "    def remember(self, m):\n",
    "        self.memory.append(m)\n",
    "        \n",
    "\n",
    "    def random_access(self):\n",
    "        self.access=random.choice(self.memory)\n",
    "        return self.access"
   ]
  },
  {
   "cell_type": "markdown",
   "metadata": {},
   "source": [
    "***\n",
    "The pipeline we will use for training is given below:"
   ]
  },
  {
   "cell_type": "code",
   "execution_count": 12,
   "metadata": {},
   "outputs": [],
   "source": [
    "def train(agent,env,epoch,prefix=''):\n",
    "    # Number of won games\n",
    "    score = 0\n",
    "    loss = 0\n",
    "\n",
    "    for e in range(epoch):\n",
    "        # At each epoch, we restart to a fresh game and get the initial state\n",
    "        state = env.reset()\n",
    "        # This assumes that the games will terminate\n",
    "        game_over = False\n",
    "\n",
    "        win = 0\n",
    "        lose = 0\n",
    "\n",
    "        while not game_over:\n",
    "            # The agent performs an action\n",
    "            action = agent.act(state)\n",
    "\n",
    "            # Apply an action to the environment, get the next state, the reward\n",
    "            # and if the games end\n",
    "            prev_state = state\n",
    "            state, reward, game_over = env.act(action)\n",
    "\n",
    "            # Update the counters\n",
    "            if reward > 0:\n",
    "                win = win + reward\n",
    "            if reward < 0:\n",
    "                lose = lose -reward\n",
    "\n",
    "            # Apply the reinforcement strategy\n",
    "            loss = agent.reinforce(prev_state, state,  action, reward, game_over)\n",
    "\n",
    "        # Save as a mp4\n",
    "        if e % 10 == 0:\n",
    "            env.draw(prefix+str(e))\n",
    "\n",
    "        # Update stats\n",
    "        score += win-lose\n",
    "\n",
    "        print(\"Epoch {:03d}/{:03d} | Loss {:.4f} | Win/lose count {}/{} ({})\"\n",
    "              .format(e, epoch, loss, win, lose, win-lose))\n",
    "        agent.save(name_weights=prefix+'model.h5',name_model=prefix+'model.json')"
   ]
  },
  {
   "cell_type": "markdown",
   "metadata": {},
   "source": [
    "***\n",
    "__Question 4__ Implement the DQN training algorithm using a cascade of fully connected layers. You can use different learning rate, batch size or memory size parameters. In particular, the loss might oscillate while the player will start to win the games. You have to find a good criterium."
   ]
  },
  {
   "cell_type": "code",
   "execution_count": 13,
   "metadata": {},
   "outputs": [],
   "source": [
    "class DQN(Agent):\n",
    "    def __init__(self, grid_size,  epsilon = 0.1, memory_size=100, batch_size = 16,n_state=2):\n",
    "        super(DQN, self).__init__(epsilon = epsilon)\n",
    "\n",
    "        # Discount for Q learning\n",
    "        self.discount = 0.99\n",
    "        self.epsilon=epsilon\n",
    "        self.grid_size = grid_size\n",
    "        \n",
    "        # number of state\n",
    "        self.n_state = n_state\n",
    "\n",
    "        # Memory\n",
    "        self.memory = Memory(memory_size)\n",
    "        \n",
    "        # Batch size when learning\n",
    "        self.batch_size = batch_size\n",
    "\n",
    "    def learned_act(self, s):\n",
    "        s = np.reshape(s,[1,5,5,self.n_state])\n",
    "        #if np.random.rand() <= self.epsilon:\n",
    "         #   return random.randrange(4)\n",
    "        act_values = self.model.predict(s)\n",
    "        return np.argmax(act_values[0])\n",
    "\n",
    "    def reinforce(self, s_, n_s_, a_, r_, game_over_):\n",
    "        # Two steps: first memorize the states, second learn from the pool\n",
    "        s_ = np.reshape(s_,[1,5,5,self.n_state])\n",
    "        n_s_ = np.reshape(n_s_,[1,5,5,self.n_state])\n",
    "                         \n",
    "        self.memory.remember([s_, n_s_, a_, r_, game_over_])\n",
    "        \n",
    "        input_states = np.zeros((self.batch_size, 5,5,self.n_state))\n",
    "        target_q = np.zeros((self.batch_size, 4))\n",
    "        \n",
    "        for i in range(self.batch_size):\n",
    "            ######## FILL IN\n",
    "            target=r_\n",
    "                         \n",
    "            step=self.memory.random_access()\n",
    "            s_=step[0]\n",
    "            n_s_=step[1]\n",
    "            a_=step[2]\n",
    "            r_=step[3]\n",
    "            game_over=step[4]\n",
    "            input_states[i] = s_\n",
    "                         \n",
    "            if game_over_:\n",
    "                target=r_               \n",
    "            else:\n",
    "                target=(r_+self.discount*np.amax(self.model.predict(n_s_)[0]))\n",
    "            target_f = self.model.predict(s_)\n",
    "            target_f[0][a_] = target\n",
    "            self.model.fit(s_, target_f, epochs=1, verbose=0)\n",
    "            target_q[i]=target_f\n",
    "            \n",
    "        target_q = np.clip(target_q, -3, 3)\n",
    "        l = self.model.train_on_batch(input_states, target_q)\n",
    "\n",
    "        return l\n",
    "\n",
    "    def save(self,name_weights='model.h5',name_model='model.json'):\n",
    "        self.model.save_weights(name_weights, overwrite=True)\n",
    "        with open(name_model, \"w\") as outfile:\n",
    "            json.dump(self.model.to_json(), outfile)\n",
    "            \n",
    "    def load(self,name_weights='model.h5',name_model='model.json'):\n",
    "        with open(name_model, \"r\") as jfile:\n",
    "            model = model_from_json(json.load(jfile))\n",
    "        model.load_weights(name_weights)\n",
    "        model.compile(\"sgd\", \"mse\")\n",
    "        self.model = model\n",
    "\n",
    "            \n",
    "class DQN_FC(DQN):\n",
    "    def __init__(self, *args, lr=0.1,**kwargs):\n",
    "        super(DQN_FC, self).__init__( *args,**kwargs)\n",
    "        \n",
    "        # NN Model\n",
    "        model = Sequential()\n",
    "        model.add(Reshape((50,),input_shape=(5,5,self.n_state)))\n",
    "        model.add(Dense(200, input_dim=50, activation=\"relu\")) \n",
    "        model.add(Dense(100, activation=\"relu\"))\n",
    "        model.add(Dense(4, activation=\"linear\")) # change      saction space  \n",
    "        model.compile(sgd(lr=lr, decay=1e-4, momentum=0.0), \"mse\") # this optimizer loss function return NaN, so it was changed \n",
    "        self.model = model\n",
    "        "
   ]
  },
  {
   "cell_type": "code",
   "execution_count": 14,
   "metadata": {},
   "outputs": [
    {
     "name": "stdout",
     "output_type": "stream",
     "text": [
      "Epoch 000/010 | Loss 0.0835 | Win/lose count 1.5/1.0 (0.5)\n",
      "Epoch 001/010 | Loss 0.3460 | Win/lose count 3.0/5.0 (-2.0)\n",
      "Epoch 002/010 | Loss 0.4454 | Win/lose count 3.0/1.0 (2.0)\n",
      "Epoch 003/010 | Loss 0.3425 | Win/lose count 3.5/4.0 (-0.5)\n",
      "Epoch 004/010 | Loss 0.5224 | Win/lose count 2.0/5.0 (-3.0)\n",
      "Epoch 005/010 | Loss 0.6464 | Win/lose count 4.0/1.0 (3.0)\n",
      "Epoch 006/010 | Loss 0.7212 | Win/lose count 4.0/4.0 (0.0)\n",
      "Epoch 007/010 | Loss 0.6988 | Win/lose count 4.0/2.0 (2.0)\n",
      "Epoch 008/010 | Loss 0.7769 | Win/lose count 4.0/2.0 (2.0)\n",
      "Epoch 009/010 | Loss 0.7545 | Win/lose count 2.5/3.0 (-0.5)\n"
     ]
    },
    {
     "data": {
      "text/html": [
       "<video alt=\"test\" controls>\n",
       "                <source src=\"data:video/mp4;base64,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\" type=\"video/mp4\" />\n",
       "             </video>"
      ],
      "text/plain": [
       "<IPython.core.display.HTML object>"
      ]
     },
     "execution_count": 14,
     "metadata": {},
     "output_type": "execute_result"
    }
   ],
   "source": [
    "env = Environment(grid_size=size, max_time=T, temperature=0.3)\n",
    "agent = DQN_FC(size, lr=.1, epsilon = 0.1, memory_size=2000, batch_size = 32)\n",
    "train(agent, env, epochs_train, prefix='fc_train')\n",
    "HTML(display_videos('fc_train0.mp4'))"
   ]
  },
  {
   "cell_type": "code",
   "execution_count": 15,
   "metadata": {},
   "outputs": [
    {
     "data": {
      "text/html": [
       "<video alt=\"test\" controls>\n",
       "                <source src=\"data:video/mp4;base64,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\" type=\"video/mp4\" />\n",
       "             </video>"
      ],
      "text/plain": [
       "<IPython.core.display.HTML object>"
      ]
     },
     "execution_count": 15,
     "metadata": {},
     "output_type": "execute_result"
    }
   ],
   "source": [
    "HTML(display_videos('fc_train0.mp4'))"
   ]
  },
  {
   "cell_type": "markdown",
   "metadata": {},
   "source": [
    "***\n",
    "***\n",
    "__Question 5__ Implement the DQN training algorithm using a CNN (for example, 2 convolutional layers and one final fully connected layer)."
   ]
  },
  {
   "cell_type": "code",
   "execution_count": 16,
   "metadata": {},
   "outputs": [],
   "source": [
    "class DQN_CNN(DQN):\n",
    "    def __init__(self, *args,lr=0.1,**kwargs):\n",
    "        super(DQN_CNN, self).__init__(*args,**kwargs)\n",
    "        \n",
    "        ###### CNN\n",
    "        model = Sequential()\n",
    "        model.add(Conv2D(filters=32, kernel_size=(2,2), input_shape=(5,5,self.n_state), activation='relu'))\n",
    "        model.add(Conv2D(filters=32, kernel_size=(2,2), activation='relu'))\n",
    "        model.add(Dropout(0.2))\n",
    "        model.add(Flatten())\n",
    "        model.add(Dense(4, activation='linear'))\n",
    "        model.compile(sgd(lr=lr, decay=1e-4, momentum=0.0), \"mse\")\n",
    "        self.model = model"
   ]
  },
  {
   "cell_type": "code",
   "execution_count": 17,
   "metadata": {},
   "outputs": [
    {
     "name": "stderr",
     "output_type": "stream",
     "text": [
      "C:\\Users\\louis\\AppData\\Roaming\\Python\\Python36\\site-packages\\numpy\\core\\fromnumeric.py:83: RuntimeWarning: invalid value encountered in reduce\n",
      "  return ufunc.reduce(obj, axis, dtype, out, **passkwargs)\n"
     ]
    },
    {
     "name": "stdout",
     "output_type": "stream",
     "text": [
      "Epoch 000/010 | Loss nan | Win/lose count 3.5/4.0 (-0.5)\n",
      "Epoch 001/010 | Loss nan | Win/lose count 2.0/1.0 (1.0)\n",
      "Epoch 002/010 | Loss nan | Win/lose count 2.5/7.0 (-4.5)\n",
      "Epoch 003/010 | Loss nan | Win/lose count 1.0/3.0 (-2.0)\n",
      "Epoch 004/010 | Loss nan | Win/lose count 0.5/0 (0.5)\n",
      "Epoch 005/010 | Loss nan | Win/lose count 2.0/3.0 (-1.0)\n",
      "Epoch 006/010 | Loss nan | Win/lose count 2.5/8.0 (-5.5)\n",
      "Epoch 007/010 | Loss nan | Win/lose count 3.0/1.0 (2.0)\n",
      "Epoch 008/010 | Loss nan | Win/lose count 4.0/1.0 (3.0)\n",
      "Epoch 009/010 | Loss nan | Win/lose count 1.0/6.0 (-5.0)\n"
     ]
    },
    {
     "data": {
      "text/html": [
       "<video alt=\"test\" controls>\n",
       "                <source src=\"data:video/mp4;base64,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\" type=\"video/mp4\" />\n",
       "             </video>"
      ],
      "text/plain": [
       "<IPython.core.display.HTML object>"
      ]
     },
     "execution_count": 17,
     "metadata": {},
     "output_type": "execute_result"
    }
   ],
   "source": [
    "env = Environment(grid_size=size, max_time=T, temperature=0.3)\n",
    "agent = DQN_CNN(size, lr=.1, epsilon = 0.1, memory_size=2000, batch_size = 32)\n",
    "train(agent,env,epochs_train,prefix='cnn_train')\n",
    "HTML(display_videos('cnn_train0.mp4'))"
   ]
  },
  {
   "cell_type": "markdown",
   "metadata": {},
   "source": [
    "***\n",
    "***\n",
    "__Question 6__ Test both algorithms and compare their performances. Which issue(s) do you observe? Observe also different behaviors by changing the temperature."
   ]
  },
  {
   "cell_type": "code",
   "execution_count": 18,
   "metadata": {},
   "outputs": [
    {
     "name": "stdout",
     "output_type": "stream",
     "text": [
      "Test of the CNN\n",
      "Win/lose count 6.0/0. Average score (6.0)\n",
      "Win/lose count 1.5/2.0. Average score (2.75)\n",
      "Win/lose count 2.0/1.0. Average score (2.1666666666666665)\n",
      "Win/lose count 3.5/4.0. Average score (1.5)\n",
      "Win/lose count 3.0/5.0. Average score (0.8)\n",
      "Win/lose count 2.5/5.0. Average score (0.25)\n",
      "Win/lose count 2.5/0. Average score (0.5714285714285714)\n",
      "Win/lose count 1.5/6.0. Average score (-0.0625)\n",
      "Win/lose count 2.0/2.0. Average score (-0.05555555555555555)\n",
      "Win/lose count 2.5/3.0. Average score (-0.1)\n",
      "Win/lose count 2.5/1.0. Average score (0.045454545454545456)\n",
      "Win/lose count 0.5/1.0. Average score (0.0)\n",
      "Win/lose count 2.0/7.0. Average score (-0.38461538461538464)\n",
      "Win/lose count 3.0/6.0. Average score (-0.5714285714285714)\n",
      "Win/lose count 2.0/1.0. Average score (-0.4666666666666667)\n",
      "Win/lose count 2.5/2.0. Average score (-0.40625)\n",
      "Win/lose count 1.0/3.0. Average score (-0.5)\n",
      "Win/lose count 2.5/2.0. Average score (-0.4444444444444444)\n",
      "Win/lose count 5.0/2.0. Average score (-0.2631578947368421)\n",
      "Win/lose count 0.5/4.0. Average score (-0.425)\n",
      "Final score: -0.425\n",
      "Test of the FC\n",
      "Win/lose count 1.5/0. Average score (1.5)\n",
      "Win/lose count 3.5/5.0. Average score (0.0)\n",
      "Win/lose count 1.0/4.0. Average score (-1.0)\n",
      "Win/lose count 3.0/4.0. Average score (-1.0)\n",
      "Win/lose count 2.5/1.0. Average score (-0.5)\n",
      "Win/lose count 1.5/1.0. Average score (-0.3333333333333333)\n",
      "Win/lose count 2.0/2.0. Average score (-0.2857142857142857)\n",
      "Win/lose count 1.0/3.0. Average score (-0.5)\n",
      "Win/lose count 4.5/5.0. Average score (-0.5)\n",
      "Win/lose count 2.0/6.0. Average score (-0.85)\n",
      "Win/lose count 2.5/3.0. Average score (-0.8181818181818182)\n",
      "Win/lose count 3.0/1.0. Average score (-0.5833333333333334)\n",
      "Win/lose count 1.0/1.0. Average score (-0.5384615384615384)\n",
      "Win/lose count 2.5/4.0. Average score (-0.6071428571428571)\n",
      "Win/lose count 3.0/1.0. Average score (-0.43333333333333335)\n",
      "Win/lose count 1.5/5.0. Average score (-0.625)\n",
      "Win/lose count 1.5/8.0. Average score (-0.9705882352941176)\n",
      "Win/lose count 2.0/1.0. Average score (-0.8611111111111112)\n",
      "Win/lose count 3.0/6.0. Average score (-0.9736842105263158)\n",
      "Win/lose count 0.5/1.0. Average score (-0.95)\n",
      "Final score: -0.95\n"
     ]
    }
   ],
   "source": [
    "env = Environment(grid_size=size, max_time=T,temperature=0.3)\n",
    "agent_cnn = DQN_CNN(size, lr=.1, epsilon = 0.1, memory_size=2000, batch_size = 32)\n",
    "agent_cnn.load(name_weights='cnn_trainmodel.h5',name_model='cnn_trainmodel.json')\n",
    "\n",
    "agent_fc = DQN_FC(size, lr=.1, epsilon = 0.1, memory_size=2000, batch_size = 32)\n",
    "agent_cnn.load(name_weights='fc_trainmodel.h5',name_model='fc_trainmodel.json')\n",
    "print('Test of the CNN')\n",
    "test(agent_cnn,env,epochs_test,prefix='cnn_test')\n",
    "print('Test of the FC')\n",
    "test(agent_fc,env,epochs_test,prefix='fc_test')"
   ]
  },
  {
   "cell_type": "code",
   "execution_count": 19,
   "metadata": {},
   "outputs": [
    {
     "data": {
      "text/html": [
       "<video alt=\"test\" controls>\n",
       "                <source src=\"data:video/mp4;base64,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\" type=\"video/mp4\" />\n",
       "             </video>"
      ],
      "text/plain": [
       "<IPython.core.display.HTML object>"
      ]
     },
     "execution_count": 19,
     "metadata": {},
     "output_type": "execute_result"
    }
   ],
   "source": [
    "HTML(display_videos('cnn_test0.mp4'))"
   ]
  },
  {
   "cell_type": "code",
   "execution_count": 20,
   "metadata": {},
   "outputs": [
    {
     "data": {
      "text/html": [
       "<video alt=\"test\" controls>\n",
       "                <source src=\"data:video/mp4;base64,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\" type=\"video/mp4\" />\n",
       "             </video>"
      ],
      "text/plain": [
       "<IPython.core.display.HTML object>"
      ]
     },
     "execution_count": 20,
     "metadata": {},
     "output_type": "execute_result"
    }
   ],
   "source": [
    "HTML(display_videos('fc_test0.mp4'))"
   ]
  },
  {
   "cell_type": "markdown",
   "metadata": {},
   "source": [
    "We observe that the NN is a safe algorithm as it won't try to maximize the reward and does not explore the map. It avoids to move in the direction where there are negative reward which explains the low score.\n",
    "On the countrary, the CNN tends to explore a wider area of the map even if it passes through negative rewards"
   ]
  },
  {
   "cell_type": "code",
   "execution_count": null,
   "metadata": {},
   "outputs": [],
   "source": [
    "# Training\n",
    "env = EnvironmentExploring(grid_size=size, max_time=T, temperature=0.3)\n",
    "agent = DQN_CNN(size, lr=.1, epsilon = 0.1, memory_size=2000, batch_size = 32,n_state=3)\n",
    "train_explore(agent, env, epochs_train, prefix='cnn_train_explore')\n",
    "HTML(display_videos('cnn_train_explore10.mp4'))"
   ]
  },
  {
   "cell_type": "code",
   "execution_count": 21,
   "metadata": {},
   "outputs": [
    {
     "ename": "NameError",
     "evalue": "name 'action' is not defined",
     "output_type": "error",
     "traceback": [
      "\u001b[1;31m---------------------------------------------------------------------------\u001b[0m",
      "\u001b[1;31mNameError\u001b[0m                                 Traceback (most recent call last)",
      "\u001b[1;32m<ipython-input-21-7e87314b82d9>\u001b[0m in \u001b[0;36m<module>\u001b[1;34m\u001b[0m\n\u001b[0;32m      8\u001b[0m \u001b[1;31m## use those samples of code:\u001b[0m\u001b[1;33m\u001b[0m\u001b[1;33m\u001b[0m\u001b[0m\n\u001b[0;32m      9\u001b[0m \u001b[1;31m#In train explore:\u001b[0m\u001b[1;33m\u001b[0m\u001b[1;33m\u001b[0m\u001b[0m\n\u001b[1;32m---> 10\u001b[1;33m \u001b[0mstate\u001b[0m\u001b[1;33m,\u001b[0m \u001b[0mreward\u001b[0m\u001b[1;33m,\u001b[0m \u001b[0mgame_over\u001b[0m \u001b[1;33m=\u001b[0m \u001b[0menv\u001b[0m\u001b[1;33m.\u001b[0m\u001b[0mact\u001b[0m\u001b[1;33m(\u001b[0m\u001b[0maction\u001b[0m\u001b[1;33m,\u001b[0m \u001b[0mtrain\u001b[0m\u001b[1;33m=\u001b[0m\u001b[1;32mTrue\u001b[0m\u001b[1;33m)\u001b[0m\u001b[1;33m\u001b[0m\u001b[0m\n\u001b[0m\u001b[0;32m     11\u001b[0m \u001b[1;33m\u001b[0m\u001b[0m\n\u001b[0;32m     12\u001b[0m \u001b[1;31m## In Environment exploring:\u001b[0m\u001b[1;33m\u001b[0m\u001b[1;33m\u001b[0m\u001b[0m\n",
      "\u001b[1;31mNameError\u001b[0m: name 'action' is not defined"
     ]
    }
   ],
   "source": [
    "def train_explore(agent,env,epoch,prefix=''):\n",
    "    pass\n",
    "        \n",
    "class EnvironmentExploring(object):\n",
    "    def __init__(self, grid_size=10, max_time=500, temperature=0.1):\n",
    "        pass\n",
    "    \n",
    "## use those samples of code:\n",
    "#In train explore:\n",
    "state, reward, game_over = env.act(action, train=True)\n",
    "\n",
    "## In Environment exploring:\n",
    "# You will have to change n_state to 3 because you will use one more layer!\n",
    "reward = 0\n",
    "if train:\n",
    "    reward = -self.malus_position[self.x, self.y]\n",
    "self.malus_position[self.x, self.y] = 0.1\n",
    "\n",
    "reward = reward + self.board[self.x, self.y]\n",
    "# 3 \"feature\" states instead of 2\n",
    "state = np.concatenate((self.malus_position.reshape(self.grid_size, self.grid_size,1),\n",
    "                                self.board.reshape(self.grid_size, self.grid_size,1),\n",
    "                        self.position.reshape(self.grid_size, self.grid_size,1)),axis=2)"
   ]
  },
  {
   "cell_type": "code",
   "execution_count": null,
   "metadata": {},
   "outputs": [],
   "source": [
    "# Evaluation\n",
    "test(agent,env,epochs_test,prefix='cnn_test_explore')\n",
    "HTML(display_videos('cnn_test_explore10.mp4'))"
   ]
  },
  {
   "cell_type": "markdown",
   "metadata": {},
   "source": [
    "***\n",
    "***\n",
    "__BONUS question__ Use the expert DQN from the previous question to generate some winning games. Train a model that mimicks its behavior. Compare the performances."
   ]
  },
  {
   "cell_type": "markdown",
   "metadata": {},
   "source": []
  },
  {
   "cell_type": "markdown",
   "metadata": {},
   "source": [
    "***"
   ]
  }
 ],
 "metadata": {
  "kernelspec": {
   "display_name": "Python 3",
   "language": "python",
   "name": "python3"
  },
  "language_info": {
   "codemirror_mode": {
    "name": "ipython",
    "version": 3
   },
   "file_extension": ".py",
   "mimetype": "text/x-python",
   "name": "python",
   "nbconvert_exporter": "python",
   "pygments_lexer": "ipython3",
   "version": "3.6.0"
  }
 },
 "nbformat": 4,
 "nbformat_minor": 2
}
